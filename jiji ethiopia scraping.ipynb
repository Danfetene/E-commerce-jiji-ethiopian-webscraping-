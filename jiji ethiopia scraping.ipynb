{
 "cells": [
  {
   "cell_type": "code",
   "execution_count": 3,
   "id": "c9812d17",
   "metadata": {},
   "outputs": [],
   "source": [
    "import  pandas as pd\n",
    "import requests"
   ]
  },
  {
   "cell_type": "code",
   "execution_count": 4,
   "id": "58b603cd",
   "metadata": {},
   "outputs": [],
   "source": [
    "headers = {\"User-Agent\": \"Mozilla/5.0 (Windows NT 10.0; Win64; x64) AppleWebKit/537.36 (KHTML, like Gecko) Chrome/111.0.0.0 Safari/537.36\"} "
   ]
  },
  {
   "cell_type": "code",
   "execution_count": 83,
   "id": "3c8a02c2",
   "metadata": {},
   "outputs": [],
   "source": [
    "url = \"https://jiji.com.et/api_web/v1/listing?slug=tablets&init_page=true&page=\"\n",
    "page_number =1\n",
    "\n",
    "try:\n",
    "    name =[]\n",
    "    price = []\n",
    "    while True:\n",
    "     \n",
    "        response =requests.get(url+str(page_number),headers=headers)\n",
    "        data =response.json()\n",
    "       \n",
    "        if len(data['adverts_list']['adverts'])==0:\n",
    "            break\n",
    "        else:\n",
    "            \n",
    "            for i in data[\"adverts_list\"][\"adverts\"]:\n",
    "                name.append (i[\"price_obj\"][\"value\"])\n",
    "                price.append(i[\"fb_view_content_data\"]['content_name'])\n",
    "                \n",
    "                   \n",
    "            page_number+=1 \n",
    "    \n",
    "except:\n",
    "    pass"
   ]
  },
  {
   "cell_type": "code",
   "execution_count": 89,
   "id": "82870f48",
   "metadata": {},
   "outputs": [],
   "source": [
    "df = pd.DataFrame({'price':price,'name':name}) "
   ]
  },
  {
   "cell_type": "code",
   "execution_count": 90,
   "id": "17af07f8",
   "metadata": {},
   "outputs": [
    {
     "data": {
      "text/html": [
       "<div>\n",
       "<style scoped>\n",
       "    .dataframe tbody tr th:only-of-type {\n",
       "        vertical-align: middle;\n",
       "    }\n",
       "\n",
       "    .dataframe tbody tr th {\n",
       "        vertical-align: top;\n",
       "    }\n",
       "\n",
       "    .dataframe thead th {\n",
       "        text-align: right;\n",
       "    }\n",
       "</style>\n",
       "<table border=\"1\" class=\"dataframe\">\n",
       "  <thead>\n",
       "    <tr style=\"text-align: right;\">\n",
       "      <th></th>\n",
       "      <th>price</th>\n",
       "      <th>name</th>\n",
       "    </tr>\n",
       "  </thead>\n",
       "  <tbody>\n",
       "    <tr>\n",
       "      <th>0</th>\n",
       "      <td>New C Idea CM7000 Plus 256 GB Black</td>\n",
       "      <td>9500</td>\n",
       "    </tr>\n",
       "    <tr>\n",
       "      <th>1</th>\n",
       "      <td>New C Idea CM5000+ 256 GB</td>\n",
       "      <td>16500</td>\n",
       "    </tr>\n",
       "    <tr>\n",
       "      <th>2</th>\n",
       "      <td>New Samsung Galaxy Tab A8 GB Black</td>\n",
       "      <td>27000</td>\n",
       "    </tr>\n",
       "    <tr>\n",
       "      <th>3</th>\n",
       "      <td>New Samsung Galaxy Tab a 8.0 (2019) 32 GB Gray</td>\n",
       "      <td>27000</td>\n",
       "    </tr>\n",
       "    <tr>\n",
       "      <th>4</th>\n",
       "      <td>Honor V6 16 GB Silver</td>\n",
       "      <td>9500</td>\n",
       "    </tr>\n",
       "    <tr>\n",
       "      <th>...</th>\n",
       "      <td>...</td>\n",
       "      <td>...</td>\n",
       "    </tr>\n",
       "    <tr>\n",
       "      <th>470</th>\n",
       "      <td>New Apple iPad 10.2 (2021) 256 GB Gray</td>\n",
       "      <td>45500</td>\n",
       "    </tr>\n",
       "    <tr>\n",
       "      <th>471</th>\n",
       "      <td>New C Idea CM7000 Plus 256 GB Black</td>\n",
       "      <td>11500</td>\n",
       "    </tr>\n",
       "    <tr>\n",
       "      <th>472</th>\n",
       "      <td>New Apple iPad Pro 12.9 (2021) 128 GB Gray</td>\n",
       "      <td>125000</td>\n",
       "    </tr>\n",
       "    <tr>\n",
       "      <th>473</th>\n",
       "      <td>Samsung Galaxy Tab S7+ 128 GB Blue</td>\n",
       "      <td>55000</td>\n",
       "    </tr>\n",
       "    <tr>\n",
       "      <th>474</th>\n",
       "      <td>New Apple iPad Air (2020) 64 GB Silver</td>\n",
       "      <td>58500</td>\n",
       "    </tr>\n",
       "  </tbody>\n",
       "</table>\n",
       "<p>475 rows × 2 columns</p>\n",
       "</div>"
      ],
      "text/plain": [
       "                                              price    name\n",
       "0               New C Idea CM7000 Plus 256 GB Black    9500\n",
       "1                         New C Idea CM5000+ 256 GB   16500\n",
       "2                New Samsung Galaxy Tab A8 GB Black   27000\n",
       "3    New Samsung Galaxy Tab a 8.0 (2019) 32 GB Gray   27000\n",
       "4                             Honor V6 16 GB Silver    9500\n",
       "..                                              ...     ...\n",
       "470          New Apple iPad 10.2 (2021) 256 GB Gray   45500\n",
       "471             New C Idea CM7000 Plus 256 GB Black   11500\n",
       "472      New Apple iPad Pro 12.9 (2021) 128 GB Gray  125000\n",
       "473              Samsung Galaxy Tab S7+ 128 GB Blue   55000\n",
       "474          New Apple iPad Air (2020) 64 GB Silver   58500\n",
       "\n",
       "[475 rows x 2 columns]"
      ]
     },
     "execution_count": 90,
     "metadata": {},
     "output_type": "execute_result"
    }
   ],
   "source": [
    "df"
   ]
  },
  {
   "cell_type": "code",
   "execution_count": 92,
   "id": "887c06ad",
   "metadata": {},
   "outputs": [],
   "source": [
    "df.to_excel('jiji scraped data.xlsx',index=False)"
   ]
  },
  {
   "cell_type": "code",
   "execution_count": null,
   "id": "9c6394e0",
   "metadata": {},
   "outputs": [],
   "source": []
  }
 ],
 "metadata": {
  "kernelspec": {
   "display_name": "Python 3 (ipykernel)",
   "language": "python",
   "name": "python3"
  },
  "language_info": {
   "codemirror_mode": {
    "name": "ipython",
    "version": 3
   },
   "file_extension": ".py",
   "mimetype": "text/x-python",
   "name": "python",
   "nbconvert_exporter": "python",
   "pygments_lexer": "ipython3",
   "version": "3.9.13"
  }
 },
 "nbformat": 4,
 "nbformat_minor": 5
}
